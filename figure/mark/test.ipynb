{
 "cells": [
  {
   "cell_type": "code",
   "execution_count": 5,
   "id": "26e3dc37",
   "metadata": {},
   "outputs": [],
   "source": [
    "import img2pdf\n",
    "from PyPDF2 import PdfMerger\n",
    "import os\n",
    "\n",
    "def convert_folder_to_pdf(input_folder, output_pdf):\n",
    "    \"\"\"\n",
    "    将文件夹中的所有 PNG 合并为一个 PDF\n",
    "    \n",
    "    参数:\n",
    "    input_folder: 包含 PNG 文件的文件夹路径\n",
    "    output_pdf: 输出 PDF 文件路径\n",
    "    \"\"\"\n",
    "    pdf_files = []\n",
    "    \n",
    "    # 遍历文件夹中的所有 PNG 文件\n",
    "    for filename in sorted(os.listdir(input_folder)):\n",
    "        if filename.lower().endswith(\".png\"):\n",
    "            png_path = os.path.join(input_folder, filename)\n",
    "            pdf_path = os.path.splitext(png_path)[0] + \".pdf\"\n",
    "            \n",
    "            # 转换为 PDF\n",
    "            with open(pdf_path, \"wb\") as f:\n",
    "                f.write(img2pdf.convert(png_path))\n",
    "            \n",
    "            pdf_files.append(pdf_path)\n",
    "    \n",
    "    # 合并所有 PDF\n",
    "    merger = PdfMerger()\n",
    "    for pdf in pdf_files:\n",
    "        merger.append(pdf)\n",
    "    \n",
    "    merger.write(output_pdf)\n",
    "    merger.close()\n",
    "    \n",
    "    # 清理临时文件 (可选)\n",
    "    # for pdf in pdf_files:\n",
    "    #     os.remove(pdf)"
   ]
  },
  {
   "cell_type": "code",
   "execution_count": 6,
   "id": "5dffe15c",
   "metadata": {},
   "outputs": [
    {
     "name": "stderr",
     "output_type": "stream",
     "text": [
      "Image contains an alpha channel. Computing a separate soft mask (/SMask) image to store transparency in PDF.\n",
      "Image contains an alpha channel. Computing a separate soft mask (/SMask) image to store transparency in PDF.\n"
     ]
    }
   ],
   "source": [
    "convert_folder_to_pdf(\"./\", \"final_output.pdf\")"
   ]
  }
 ],
 "metadata": {
  "kernelspec": {
   "display_name": "pytorch_gpu",
   "language": "python",
   "name": "pytorch_gpu"
  },
  "language_info": {
   "codemirror_mode": {
    "name": "ipython",
    "version": 3
   },
   "file_extension": ".py",
   "mimetype": "text/x-python",
   "name": "python",
   "nbconvert_exporter": "python",
   "pygments_lexer": "ipython3",
   "version": "3.10.15"
  }
 },
 "nbformat": 4,
 "nbformat_minor": 5
}
